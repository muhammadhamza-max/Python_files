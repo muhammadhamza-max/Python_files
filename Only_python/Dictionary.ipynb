{
 "cells": [
  {
   "cell_type": "code",
   "execution_count": 48,
   "metadata": {},
   "outputs": [
    {
     "data": {
      "text/plain": [
       "{'Hamza': 923102813703,\n",
       " 'Sheikh': 923336437283,\n",
       " 'Fursy': 923467364832,\n",
       " 'USman': 923128347281}"
      ]
     },
     "execution_count": 48,
     "metadata": {},
     "output_type": "execute_result"
    }
   ],
   "source": [
    "contacts = {\n",
    "    'Hamza': +923102813703,'Sheikh': +923336437283,'Fursy': +923467364832,'USman': +923128347281,\n",
    "}\n",
    "\n",
    "contacts"
   ]
  },
  {
   "cell_type": "code",
   "execution_count": 5,
   "metadata": {},
   "outputs": [
    {
     "data": {
      "text/plain": [
       "923336437283"
      ]
     },
     "execution_count": 5,
     "metadata": {},
     "output_type": "execute_result"
    }
   ],
   "source": [
    "contacts['Sheikh']"
   ]
  },
  {
   "cell_type": "code",
   "execution_count": 6,
   "metadata": {},
   "outputs": [
    {
     "data": {
      "text/plain": [
       "{'Hamza': 923332246877,\n",
       " 'Sheikh': 923336437283,\n",
       " 'Fursy': 923467364832,\n",
       " 'USman': 923128347281}"
      ]
     },
     "execution_count": 6,
     "metadata": {},
     "output_type": "execute_result"
    }
   ],
   "source": [
    "contacts['Hamza'] = +923332246877\n",
    "contacts"
   ]
  },
  {
   "cell_type": "code",
   "execution_count": 7,
   "metadata": {},
   "outputs": [],
   "source": [
    "del contacts['Fursy']"
   ]
  },
  {
   "cell_type": "code",
   "execution_count": 8,
   "metadata": {},
   "outputs": [
    {
     "data": {
      "text/plain": [
       "{'Hamza': 923332246877, 'Sheikh': 923336437283, 'USman': 923128347281}"
      ]
     },
     "execution_count": 8,
     "metadata": {},
     "output_type": "execute_result"
    }
   ],
   "source": [
    "contacts"
   ]
  },
  {
   "cell_type": "code",
   "execution_count": 9,
   "metadata": {},
   "outputs": [
    {
     "data": {
      "text/plain": [
       "dict_keys(['Hamza', 'Sheikh', 'USman'])"
      ]
     },
     "execution_count": 9,
     "metadata": {},
     "output_type": "execute_result"
    }
   ],
   "source": [
    "contacts.keys()"
   ]
  },
  {
   "cell_type": "code",
   "execution_count": 10,
   "metadata": {},
   "outputs": [
    {
     "data": {
      "text/plain": [
       "dict_values([923332246877, 923336437283, 923128347281])"
      ]
     },
     "execution_count": 10,
     "metadata": {},
     "output_type": "execute_result"
    }
   ],
   "source": [
    "contacts.values()"
   ]
  },
  {
   "cell_type": "code",
   "execution_count": 11,
   "metadata": {},
   "outputs": [
    {
     "data": {
      "text/plain": [
       "dict_items([('Hamza', 923332246877), ('Sheikh', 923336437283), ('USman', 923128347281)])"
      ]
     },
     "execution_count": 11,
     "metadata": {},
     "output_type": "execute_result"
    }
   ],
   "source": [
    "contacts.items()"
   ]
  },
  {
   "cell_type": "code",
   "execution_count": 12,
   "metadata": {},
   "outputs": [],
   "source": [
    "contacts['Fursy'] = +923467364832"
   ]
  },
  {
   "cell_type": "code",
   "execution_count": 13,
   "metadata": {},
   "outputs": [
    {
     "data": {
      "text/plain": [
       "{'Hamza': 923332246877,\n",
       " 'Sheikh': 923336437283,\n",
       " 'USman': 923128347281,\n",
       " 'Fursy': 923467364832}"
      ]
     },
     "execution_count": 13,
     "metadata": {},
     "output_type": "execute_result"
    }
   ],
   "source": [
    "contacts"
   ]
  },
  {
   "cell_type": "code",
   "execution_count": 23,
   "metadata": {},
   "outputs": [
    {
     "data": {
      "text/plain": [
       "{'Hamza': 923332246877,\n",
       " 'Sheikh': 923336437283,\n",
       " 'USman': 923128347281,\n",
       " 'Fursy': 923467364832}"
      ]
     },
     "execution_count": 23,
     "metadata": {},
     "output_type": "execute_result"
    }
   ],
   "source": [
    "contacts"
   ]
  },
  {
   "cell_type": "code",
   "execution_count": 31,
   "metadata": {},
   "outputs": [
    {
     "name": "stdout",
     "output_type": "stream",
     "text": [
      "('Hamza', 923332246877)\n",
      "('Sheikh', 923336437283)\n",
      "('USman', 923128347281)\n",
      "('Fursy', 923467364832)\n"
     ]
    }
   ],
   "source": [
    "for i in contacts.items():\n",
    "    print(i)"
   ]
  },
  {
   "cell_type": "code",
   "execution_count": 37,
   "metadata": {},
   "outputs": [
    {
     "name": "stdout",
     "output_type": "stream",
     "text": [
      "Name: Hamza \n",
      "Number: 923332246877\n",
      "Name: Sheikh \n",
      "Number: 923336437283\n",
      "Name: USman \n",
      "Number: 923128347281\n",
      "Name: Fursy \n",
      "Number: 923467364832\n"
     ]
    }
   ],
   "source": [
    "for i,j in contacts.items():\n",
    "    print(\"Name:\",i,\"\\nNumber:\",j)"
   ]
  },
  {
   "cell_type": "code",
   "execution_count": null,
   "metadata": {},
   "outputs": [],
   "source": [
    "game = {\n",
    "    'right':'left',\n",
    "    'up':'down',\n",
    "}\n",
    "user = input(\"State Direction: \").lower()\n",
    "\n",
    "if user in game.keys():\n",
    "    print(game[user])\n",
    "else:\n",
    "    print(\"Not found\")"
   ]
  },
  {
   "cell_type": "code",
   "execution_count": 1,
   "metadata": {},
   "outputs": [
    {
     "data": {
      "text/plain": [
       "{'E1': {'ID': 124, 'Name': 'Ahmed', 'Designation': 'Manager'},\n",
       " 'E2': {'ID': 125, 'Name': 'Ali', 'Designation': 'Assistant Manager'},\n",
       " 'E3': {'ID': 126, 'Name': 'Butt', 'Designation': 'Head of Department'}}"
      ]
     },
     "execution_count": 1,
     "metadata": {},
     "output_type": "execute_result"
    }
   ],
   "source": [
    "employee = {\n",
    "    'E1':{'ID':124,'Name':'Ahmed','Designation':'Manager'},\n",
    "    'E2':{'ID':125,'Name':'Ali','Designation':'Assistant Manager'},\n",
    "    'E3':{'ID':126,'Name':'Butt','Designation':'Head of Department'},\n",
    "}\n",
    "\n",
    "employee"
   ]
  },
  {
   "cell_type": "code",
   "execution_count": 2,
   "metadata": {},
   "outputs": [
    {
     "data": {
      "text/plain": [
       "{'ID': 125, 'Name': 'Ali', 'Designation': 'Assistant Manager'}"
      ]
     },
     "execution_count": 2,
     "metadata": {},
     "output_type": "execute_result"
    }
   ],
   "source": [
    "employee['E2']"
   ]
  },
  {
   "cell_type": "code",
   "execution_count": 3,
   "metadata": {},
   "outputs": [
    {
     "data": {
      "text/plain": [
       "125"
      ]
     },
     "execution_count": 3,
     "metadata": {},
     "output_type": "execute_result"
    }
   ],
   "source": [
    "employee['E2']['ID']"
   ]
  },
  {
   "cell_type": "code",
   "execution_count": 4,
   "metadata": {},
   "outputs": [
    {
     "data": {
      "text/plain": [
       "{'ID': 125, 'Name': 'Ali', 'Designation': 'Assistant Manager'}"
      ]
     },
     "execution_count": 4,
     "metadata": {},
     "output_type": "execute_result"
    }
   ],
   "source": [
    "employee.get('E2')"
   ]
  },
  {
   "cell_type": "code",
   "execution_count": 6,
   "metadata": {},
   "outputs": [
    {
     "data": {
      "text/plain": [
       "'key not found'"
      ]
     },
     "execution_count": 6,
     "metadata": {},
     "output_type": "execute_result"
    }
   ],
   "source": [
    "employee.get('A1','key not found')"
   ]
  },
  {
   "cell_type": "code",
   "execution_count": 7,
   "metadata": {},
   "outputs": [
    {
     "data": {
      "text/plain": [
       "{'E1': {'ID': 124, 'Name': 'Ahmed', 'Designation': 'Manager'},\n",
       " 'E2': {'ID': 125, 'Name': 'Ali', 'Designation': 'Assistant Manager'},\n",
       " 'E3': {'ID': 126, 'Name': 'Butt', 'Designation': 'Head of Department'}}"
      ]
     },
     "execution_count": 7,
     "metadata": {},
     "output_type": "execute_result"
    }
   ],
   "source": [
    "employee"
   ]
  },
  {
   "cell_type": "code",
   "execution_count": 16,
   "metadata": {},
   "outputs": [
    {
     "data": {
      "text/plain": [
       "[{'ID': 124, 'Name': 'Ahmed', 'Designation': 'Manager'},\n",
       " {'ID': 125, 'Name': 'Sham', 'Designation': 'Assistant Manager'}]"
      ]
     },
     "execution_count": 16,
     "metadata": {},
     "output_type": "execute_result"
    }
   ],
   "source": [
    "employee2 = [{\n",
    "    'ID':124,'Name':'Ahmed','Designation':'Manager'},\n",
    "    {'ID':125,'Name':'Sham','Designation':'Assistant Manager'}\n",
    "]\n",
    "employee2"
   ]
  },
  {
   "cell_type": "code",
   "execution_count": 10,
   "metadata": {},
   "outputs": [
    {
     "data": {
      "text/plain": [
       "'Manager'"
      ]
     },
     "execution_count": 10,
     "metadata": {},
     "output_type": "execute_result"
    }
   ],
   "source": [
    "employee2[0]['Designation']"
   ]
  },
  {
   "cell_type": "code",
   "execution_count": 19,
   "metadata": {},
   "outputs": [
    {
     "data": {
      "text/plain": [
       "'Ahmed'"
      ]
     },
     "execution_count": 19,
     "metadata": {},
     "output_type": "execute_result"
    }
   ],
   "source": [
    "employee2[0]['Name']"
   ]
  },
  {
   "cell_type": "code",
   "execution_count": 28,
   "metadata": {},
   "outputs": [
    {
     "data": {
      "text/plain": [
       "{'ID': 124, 'Name': 'Ahmed', 'Designation': 'Manager'}"
      ]
     },
     "execution_count": 28,
     "metadata": {},
     "output_type": "execute_result"
    }
   ],
   "source": [
    "employee2[0]"
   ]
  },
  {
   "cell_type": "code",
   "execution_count": 31,
   "metadata": {},
   "outputs": [
    {
     "data": {
      "text/plain": [
       "'Assistant Manager'"
      ]
     },
     "execution_count": 31,
     "metadata": {},
     "output_type": "execute_result"
    }
   ],
   "source": [
    "employee2[1]['Designation']"
   ]
  },
  {
   "cell_type": "code",
   "execution_count": 49,
   "metadata": {
    "scrolled": true
   },
   "outputs": [
    {
     "data": {
      "text/plain": [
       "{'Wajahat': ['C lang', 'Python', 'Html', 'Css', 'Java'],\n",
       " 'Ismael': 'Game Designer',\n",
       " 'Shahrukh': ('Web Designer', 'Web Developer', 'Graphic Designer')}"
      ]
     },
     "execution_count": 49,
     "metadata": {},
     "output_type": "execute_result"
    }
   ],
   "source": [
    "dicta = {\n",
    "    'Wajahat':['C lang','Python','Html','Css','Java'],\n",
    "    'Ismael':'Game Designer',\n",
    "    'Shahrukh':('Web Designer','Web Developer','Graphic Designer')\n",
    "}\n",
    "\n",
    "dicta"
   ]
  },
  {
   "cell_type": "code",
   "execution_count": 45,
   "metadata": {},
   "outputs": [
    {
     "data": {
      "text/plain": [
       "'Python'"
      ]
     },
     "execution_count": 45,
     "metadata": {},
     "output_type": "execute_result"
    }
   ],
   "source": [
    "dicta['Wajahat'][1]"
   ]
  },
  {
   "cell_type": "code",
   "execution_count": 47,
   "metadata": {},
   "outputs": [
    {
     "data": {
      "text/plain": [
       "('Web Developer', 'Graphic Designer')"
      ]
     },
     "execution_count": 47,
     "metadata": {},
     "output_type": "execute_result"
    }
   ],
   "source": [
    "dicta['Shahrukh'][1:3]"
   ]
  },
  {
   "cell_type": "code",
   "execution_count": null,
   "metadata": {},
   "outputs": [],
   "source": []
  }
 ],
 "metadata": {
  "kernelspec": {
   "display_name": "Python 3",
   "language": "python",
   "name": "python3"
  },
  "language_info": {
   "codemirror_mode": {
    "name": "ipython",
    "version": 3
   },
   "file_extension": ".py",
   "mimetype": "text/x-python",
   "name": "python",
   "nbconvert_exporter": "python",
   "pygments_lexer": "ipython3",
   "version": "3.7.4"
  }
 },
 "nbformat": 4,
 "nbformat_minor": 2
}
