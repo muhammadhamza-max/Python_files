{
 "cells": [
  {
   "cell_type": "code",
   "execution_count": 5,
   "metadata": {
    "scrolled": false
   },
   "outputs": [
    {
     "name": "stdout",
     "output_type": "stream",
     "text": [
      "Your age: 54\n",
      "\n",
      "You're an adult!\n"
     ]
    }
   ],
   "source": [
    "age = int(input(\"Your age: \"))\n",
    "if age < 2:\n",
    "    print(\"\\nYou're a baby!\")\n",
    "elif age >=2 and age < 4:\n",
    "    print(\"\\nYou're a toddler!\")\n",
    "elif age == 4 or age < 13:\n",
    "    print(\"\\nYou're a kid!\")\n",
    "elif age == 13 or age < 20:\n",
    "    print(\"\\nYou're a teenager!\")\n",
    "elif age == 20 or age < 65:\n",
    "    print(\"\\nYou're an adult!\")\n",
    "elif age == 65 or age > 65:\n",
    "    print(\"\\nYou're an elder!\")\n",
    "else:\n",
    "    print(\"Type Age\")"
   ]
  },
  {
   "cell_type": "code",
   "execution_count": null,
   "metadata": {},
   "outputs": [],
   "source": []
  }
 ],
 "metadata": {
  "kernelspec": {
   "display_name": "Python 3",
   "language": "python",
   "name": "python3"
  },
  "language_info": {
   "codemirror_mode": {
    "name": "ipython",
    "version": 3
   },
   "file_extension": ".py",
   "mimetype": "text/x-python",
   "name": "python",
   "nbconvert_exporter": "python",
   "pygments_lexer": "ipython3",
   "version": "3.7.4"
  }
 },
 "nbformat": 4,
 "nbformat_minor": 2
}
