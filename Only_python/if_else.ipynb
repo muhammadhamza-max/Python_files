{
 "cells": [
  {
   "cell_type": "code",
   "execution_count": null,
   "metadata": {},
   "outputs": [
    {
     "name": "stdout",
     "output_type": "stream",
     "text": [
      "Enter the digit b/w 1 to 9: 4\n",
      "You've entered 4\n",
      "Try again?\n",
      "Enter the digit b/w 1 to 9: 5\n",
      "You've entered 5\n",
      "Try again?\n",
      "Enter the digit b/w 1 to 9: 6\n",
      "You've entered 6\n",
      "Try again?\n",
      "Enter the digit b/w 1 to 9: 7\n",
      "You've entered 7\n",
      "Well played!\n"
     ]
    }
   ],
   "source": [
    "while True:\n",
    "    user = int(input(\"Enter the digit b/w 1 to 9: \"))\n",
    "    print(\"You've entered\",user)\n",
    "    if user == 7:\n",
    "        print(\"Well played!\")\n",
    "    else:\n",
    "        print(\"Try again?\")"
   ]
  },
  {
   "cell_type": "code",
   "execution_count": 17,
   "metadata": {},
   "outputs": [
    {
     "name": "stdout",
     "output_type": "stream",
     "text": [
      "Input temperature(C/F): 45f\n",
      "\n",
      "The temp in Celsius is 7 degrees\n"
     ]
    }
   ],
   "source": [
    "temp = input(\"Input temperature(C/F): \")\n",
    "degree = int(temp[:-1])\n",
    "i_convention = temp[-1]\n",
    "\n",
    "if i_convention.lower() == \"c\":\n",
    "    result = int(round((9*degree)/5+32))\n",
    "    o_convention = \"Fahrenheit\"\n",
    "elif i_convention.lower() == \"f\":\n",
    "    result = int(round((degree-32)*5/9))\n",
    "    o_convention = \"Celsius\"\n",
    "else:\n",
    "    print(\"Input proper convention\")\n",
    "    quit()\n",
    "print(\"\\nThe temp in\",str(o_convention)+\" is\",str(result)+\" degrees\")"
   ]
  },
  {
   "cell_type": "code",
   "execution_count": 26,
   "metadata": {},
   "outputs": [
    {
     "name": "stdout",
     "output_type": "stream",
     "text": [
      "Neither condition is satisfied\n",
      "<3\n"
     ]
    }
   ],
   "source": [
    "x = 3\n",
    "y = 53\n",
    "\n",
    "if x > 3 or y%2 == 0:\n",
    "    print(\"At least one of the condition is satisfied\")\n",
    "elif x <= 3 and y%2 == 1:\n",
    "    print(\"Neither condition is satisfied\")\n",
    "print(\"<3\")"
   ]
  },
  {
   "cell_type": "code",
   "execution_count": null,
   "metadata": {},
   "outputs": [],
   "source": []
  }
 ],
 "metadata": {
  "kernelspec": {
   "display_name": "Python 3",
   "language": "python",
   "name": "python3"
  },
  "language_info": {
   "codemirror_mode": {
    "name": "ipython",
    "version": 3
   },
   "file_extension": ".py",
   "mimetype": "text/x-python",
   "name": "python",
   "nbconvert_exporter": "python",
   "pygments_lexer": "ipython3",
   "version": "3.7.4"
  }
 },
 "nbformat": 4,
 "nbformat_minor": 2
}
