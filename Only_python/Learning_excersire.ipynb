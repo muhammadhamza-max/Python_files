{
 "cells": [
  {
   "cell_type": "code",
   "execution_count": 1,
   "metadata": {},
   "outputs": [
    {
     "name": "stdout",
     "output_type": "stream",
     "text": [
      "18\n"
     ]
    }
   ],
   "source": [
    "i = 20\n",
    "i -= 2\n",
    "print(i)"
   ]
  },
  {
   "cell_type": "code",
   "execution_count": 6,
   "metadata": {},
   "outputs": [
    {
     "name": "stdout",
     "output_type": "stream",
     "text": [
      "6.5\n",
      "1\n",
      "26\n"
     ]
    }
   ],
   "source": [
    "m = 13\n",
    "i = m / 2\n",
    "print(i)\n",
    "i = m % 2\n",
    "print(i)\n",
    "i = m * 2\n",
    "print(i)"
   ]
  },
  {
   "cell_type": "code",
   "execution_count": 8,
   "metadata": {},
   "outputs": [
    {
     "name": "stdout",
     "output_type": "stream",
     "text": [
      "6.0\n"
     ]
    }
   ],
   "source": [
    "exp = 3 * 4 / 2\n",
    "print(exp)"
   ]
  },
  {
   "cell_type": "code",
   "execution_count": 9,
   "metadata": {},
   "outputs": [
    {
     "name": "stdout",
     "output_type": "stream",
     "text": [
      "9.0\n"
     ]
    }
   ],
   "source": [
    "exp = 3 * (6 / 2)\n",
    "print(exp)"
   ]
  },
  {
   "cell_type": "code",
   "execution_count": 10,
   "metadata": {},
   "outputs": [
    {
     "name": "stdout",
     "output_type": "stream",
     "text": [
      "6.0\n"
     ]
    }
   ],
   "source": [
    "exp = (3*(4+2))/(4-1)\n",
    "print(exp)"
   ]
  },
  {
   "cell_type": "code",
   "execution_count": 16,
   "metadata": {},
   "outputs": [
    {
     "name": "stdout",
     "output_type": "stream",
     "text": [
      "Hamza Shafqat\n",
      "HamzaShafqat\n",
      "Hamza Shafqat\n",
      "Hamza Shafqat 13\n"
     ]
    }
   ],
   "source": [
    "full_name = fname+\" \"+lname\n",
    "fname = \"Hamza\"\n",
    "lname = \"Shafqat\"\n",
    "print(fname,lname)\n",
    "print(fname+lname)\n",
    "print(full_name)\n",
    "print(full_name,str(m))"
   ]
  },
  {
   "cell_type": "code",
   "execution_count": 18,
   "metadata": {},
   "outputs": [
    {
     "name": "stdout",
     "output_type": "stream",
     "text": [
      "Enter number: 3\n",
      "Enter number: 4\n",
      "7\n"
     ]
    }
   ],
   "source": [
    "num1 = int(input(\"Enter number: \"))\n",
    "num2 = int(input(\"Enter number: \"))\n",
    "sum_ = num1 + num2\n",
    "print(sum_)"
   ]
  },
  {
   "cell_type": "code",
   "execution_count": 19,
   "metadata": {},
   "outputs": [
    {
     "name": "stdout",
     "output_type": "stream",
     "text": [
      "Enter radius of a Circle: 32\n",
      "201\n"
     ]
    }
   ],
   "source": [
    "user = int(input(\"Enter radius of a Circle: \"))\n",
    "radius = int(3.142 * user** 2)\n",
    "print(radius)"
   ]
  },
  {
   "cell_type": "code",
   "execution_count": 30,
   "metadata": {},
   "outputs": [
    {
     "name": "stdout",
     "output_type": "stream",
     "text": [
      "Enter Your Name: Hamza\n",
      "Enter Age: 20\n",
      "You will be 100 years old in this year: 2100\n",
      "You were born on: 2000\n"
     ]
    }
   ],
   "source": [
    "fname = input(\"Enter Your Name: \")\n",
    "age = int(input(\"Enter Age: \"))\n",
    "decrease = int(100-age)\n",
    "recent = int(2020)\n",
    "born_day = 2020-age\n",
    "bhavasheevaari = recent+decrease\n",
    "print(\"You will be 100 years old in this year:\",bhavasheevaari)\n",
    "print(\"You were born on:\",born_day)"
   ]
  },
  {
   "cell_type": "code",
   "execution_count": null,
   "metadata": {},
   "outputs": [],
   "source": [
    "age = int(input(\"Enter your age: \"))\n",
    "if age >= 18:\n",
    "    print(\"You're eligible for vote\")\n",
    "else:\n",
    "    print(\"You're NOT eligible for vote\")"
   ]
  },
  {
   "cell_type": "code",
   "execution_count": 16,
   "metadata": {},
   "outputs": [
    {
     "name": "stdout",
     "output_type": "stream",
     "text": [
      "Enter your Eng marks:    20\n",
      "Enter your Maths marks:  30\n",
      "Enter your Urdu marks:   20\n",
      "Enter your Sindhi marks: 30\n",
      "Enter your Pashto marks: 20\n",
      "\n",
      "FAIL\n"
     ]
    }
   ],
   "source": [
    "Student = int(input(\"Enter your Eng marks:    \"))\n",
    "Student_2 = int(input(\"Enter your Maths marks:  \"))\n",
    "Student_3 = int(input(\"Enter your Urdu marks:   \"))\n",
    "Student_4 = int(input(\"Enter your Sindhi marks: \"))\n",
    "Student_5 = int(input(\"Enter your Pashto marks: \"))\n",
    "sum_ = Student+Student_2+Student_3+Student_4+Student_5\n",
    "percentage = sum_ / 500 * 100\n",
    "if percentage >= 80 and percentage <= 100:\n",
    "    print(\"\\nYou've an A+ grade\",str(percentage)+\"%\")\n",
    "if percentage >= 70 and percentage <= 79:\n",
    "    print(\"\\nA Grade\",str(percentage)+\"%\")\n",
    "if percentage >= 60 and percentage <= 69:\n",
    "    print(\"\\nB Grade\",str(percentage)+\"%\")\n",
    "if percentage >= 50 and percentage <= 59:\n",
    "    print(\"\\nC Grade\",str(percentage)+\"%\")\n",
    "if percentage >= 40 and percentage <= 49:\n",
    "    print(\"\\nD Grade\",str(percentage)+\"%\")\n",
    "if percentage >= 10 and percentage <= 35:\n",
    "    print(\"\\nFAIL\")\n"
   ]
  },
  {
   "cell_type": "code",
   "execution_count": 19,
   "metadata": {},
   "outputs": [
    {
     "name": "stdout",
     "output_type": "stream",
     "text": [
      "Shoot the alien: Blue\n",
      "\n",
      "10+ points\n"
     ]
    }
   ],
   "source": [
    "alien = input(\"Shoot the alien: \").lower()\n",
    "if alien == \"green\":\n",
    "    print(\"\\n5+ points\")\n",
    "elif alien ==  \"yellow\":\n",
    "    print(\"\\n10+ points\")\n",
    "elif alien == \"blue\":\n",
    "    print(\"\\n10+ points\")\n",
    "else:\n",
    "    print(\"Mission Failed\")"
   ]
  },
  {
   "cell_type": "code",
   "execution_count": 10,
   "metadata": {},
   "outputs": [
    {
     "name": "stdout",
     "output_type": "stream",
     "text": [
      "Enter the number: 45445454\n",
      "Even number\n"
     ]
    }
   ],
   "source": [
    "user = int(input(\"Enter the number: \"))\n",
    "even = user%2\n",
    "if even == 0:\n",
    "    print(\"Even number\")\n",
    "else:\n",
    "    print(\"Odd number\")"
   ]
  },
  {
   "cell_type": "code",
   "execution_count": 28,
   "metadata": {},
   "outputs": [
    {
     "name": "stdout",
     "output_type": "stream",
     "text": [
      "Your age: 234234234\n",
      "\n",
      "You're elder!\n"
     ]
    }
   ],
   "source": [
    "user = int(input(\"Your age: \"))\n",
    "if user < 2:\n",
    "    print(\"\\nYou're baby!\")\n",
    "elif user == 2 or user < 4:\n",
    "    print(\"\\nYou're a toddler!\")\n",
    "elif user == 4 or user < 7:\n",
    "    print(\"\\nYou're a child!\")\n",
    "elif user == 7 or user < 13:\n",
    "    print(\"\\nYou're a kid!\")\n",
    "elif user == 13 or user < 20:\n",
    "    print(\"\\nYou're a teenager!\")\n",
    "elif user == 20 or user < 35:\n",
    "    print(\"\\nYou're an adult!\")\n",
    "elif user == 35 or user > 35:\n",
    "    print(\"\\nYou're elder!\")\n"
   ]
  },
  {
   "cell_type": "code",
   "execution_count": 38,
   "metadata": {},
   "outputs": [
    {
     "name": "stdout",
     "output_type": "stream",
     "text": [
      "Enter age: 19\n",
      "You'll become 2101 years old in the next 100 years\n",
      "You'll become 2101 years old in the next 100 years\n",
      "You'll become 2101 years old in the next 100 years\n"
     ]
    }
   ],
   "source": [
    "age = int(input(\"Enter age: \"))\n",
    "formu = 100 - age\n",
    "another = formu + 2020\n",
    "print(f\"You'll become {another} years old in the next 100 years\")\n",
    "print(\"You'll become\",str(another),\"years old in the next 100 years\")\n",
    "print(\"You'll become \"+str(another)+\" years old in the next 100 years\")"
   ]
  },
  {
   "cell_type": "code",
   "execution_count": null,
   "metadata": {},
   "outputs": [],
   "source": [
    "user = int(input(\"Enter temperature(C/F): \"))\n",
    "formula = user/5\n",
    "if user == \"c\":\n",
    "    print(\"Temp =\",formula)"
   ]
  },
  {
   "cell_type": "code",
   "execution_count": null,
   "metadata": {},
   "outputs": [],
   "source": [
    "user = input(\"Guess the number b/w 1 to 9: \")\n",
    "if user == 7:\n",
    "    print(\"Well guessed!\")\n",
    "else:\n",
    "    print(\"Try again?\")\n",
    "return"
   ]
  },
  {
   "cell_type": "code",
   "execution_count": null,
   "metadata": {},
   "outputs": [],
   "source": []
  },
  {
   "cell_type": "code",
   "execution_count": null,
   "metadata": {},
   "outputs": [],
   "source": []
  }
 ],
 "metadata": {
  "kernelspec": {
   "display_name": "Python 3",
   "language": "python",
   "name": "python3"
  },
  "language_info": {
   "codemirror_mode": {
    "name": "ipython",
    "version": 3
   },
   "file_extension": ".py",
   "mimetype": "text/x-python",
   "name": "python",
   "nbconvert_exporter": "python",
   "pygments_lexer": "ipython3",
   "version": "3.7.4"
  }
 },
 "nbformat": 4,
 "nbformat_minor": 2
}
