{
 "cells": [
  {
   "cell_type": "code",
   "execution_count": 1,
   "metadata": {},
   "outputs": [
    {
     "name": "stdout",
     "output_type": "stream",
     "text": [
      "18\n"
     ]
    }
   ],
   "source": [
    "i = 20\n",
    "i -= 2\n",
    "print(i)"
   ]
  },
  {
   "cell_type": "code",
   "execution_count": 6,
   "metadata": {},
   "outputs": [
    {
     "name": "stdout",
     "output_type": "stream",
     "text": [
      "6.5\n",
      "1\n",
      "26\n"
     ]
    }
   ],
   "source": [
    "m = 13\n",
    "i = m / 2\n",
    "print(i)\n",
    "i = m % 2\n",
    "print(i)\n",
    "i = m * 2\n",
    "print(i)"
   ]
  },
  {
   "cell_type": "code",
   "execution_count": 8,
   "metadata": {},
   "outputs": [
    {
     "name": "stdout",
     "output_type": "stream",
     "text": [
      "6.0\n"
     ]
    }
   ],
   "source": [
    "exp = 3 * 4 / 2\n",
    "print(exp)"
   ]
  },
  {
   "cell_type": "code",
   "execution_count": 9,
   "metadata": {},
   "outputs": [
    {
     "name": "stdout",
     "output_type": "stream",
     "text": [
      "9.0\n"
     ]
    }
   ],
   "source": [
    "exp = 3 * (6 / 2)\n",
    "print(exp)"
   ]
  },
  {
   "cell_type": "code",
   "execution_count": 10,
   "metadata": {},
   "outputs": [
    {
     "name": "stdout",
     "output_type": "stream",
     "text": [
      "6.0\n"
     ]
    }
   ],
   "source": [
    "exp = (3*(4+2))/(4-1)\n",
    "print(exp)"
   ]
  },
  {
   "cell_type": "code",
   "execution_count": 16,
   "metadata": {},
   "outputs": [
    {
     "name": "stdout",
     "output_type": "stream",
     "text": [
      "Hamza Shafqat\n",
      "HamzaShafqat\n",
      "Hamza Shafqat\n",
      "Hamza Shafqat 13\n"
     ]
    }
   ],
   "source": [
    "full_name = fname+\" \"+lname\n",
    "fname = \"Hamza\"\n",
    "lname = \"Shafqat\"\n",
    "print(fname,lname)\n",
    "print(fname+lname)\n",
    "print(full_name)\n",
    "print(full_name,str(m))"
   ]
  },
  {
   "cell_type": "code",
   "execution_count": 18,
   "metadata": {},
   "outputs": [
    {
     "name": "stdout",
     "output_type": "stream",
     "text": [
      "Enter number: 3\n",
      "Enter number: 4\n",
      "7\n"
     ]
    }
   ],
   "source": [
    "num1 = int(input(\"Enter number: \"))\n",
    "num2 = int(input(\"Enter number: \"))\n",
    "sum_ = num1 + num2\n",
    "print(sum_)"
   ]
  },
  {
   "cell_type": "code",
   "execution_count": 19,
   "metadata": {},
   "outputs": [
    {
     "name": "stdout",
     "output_type": "stream",
     "text": [
      "Enter radius of a Circle: 32\n",
      "201\n"
     ]
    }
   ],
   "source": [
    "user = int(input(\"Enter radius of a Circle: \"))\n",
    "radius = int(3.142 * user** 2)\n",
    "print(radius)"
   ]
  },
  {
   "cell_type": "code",
   "execution_count": 30,
   "metadata": {},
   "outputs": [
    {
     "name": "stdout",
     "output_type": "stream",
     "text": [
      "Enter Your Name: Hamza\n",
      "Enter Age: 20\n",
      "You will be 100 years old in this year: 2100\n",
      "You were born on: 2000\n"
     ]
    }
   ],
   "source": [
    "fname = input(\"Enter Your Name: \")\n",
    "age = int(input(\"Enter Age: \"))\n",
    "decrease = int(100-age)\n",
    "recent = int(2020)\n",
    "born_day = 2020-age\n",
    "bhavasheevaari = recent+decrease\n",
    "print(\"You will be 100 years old in this year:\",bhavasheevaari)\n",
    "print(\"You were born on:\",born_day)"
   ]
  },
  {
   "cell_type": "code",
   "execution_count": null,
   "metadata": {},
   "outputs": [],
   "source": [
    "age = int(input(\"Enter your age: \"))\n",
    "if age >= 18:\n",
    "    print(\"You're eligible for vote\")\n",
    "else:\n",
    "    print(\"You're NOT eligible for vote\")"
   ]
  },
  {
   "cell_type": "code",
   "execution_count": 16,
   "metadata": {},
   "outputs": [
    {
     "name": "stdout",
     "output_type": "stream",
     "text": [
      "Enter your Eng marks:    20\n",
      "Enter your Maths marks:  30\n",
      "Enter your Urdu marks:   20\n",
      "Enter your Sindhi marks: 30\n",
      "Enter your Pashto marks: 20\n",
      "\n",
      "FAIL\n"
     ]
    }
   ],
   "source": [
    "Student = int(input(\"Enter your Eng marks:    \"))\n",
    "Student_2 = int(input(\"Enter your Maths marks:  \"))\n",
    "Student_3 = int(input(\"Enter your Urdu marks:   \"))\n",
    "Student_4 = int(input(\"Enter your Sindhi marks: \"))\n",
    "Student_5 = int(input(\"Enter your Pashto marks: \"))\n",
    "sum_ = Student+Student_2+Student_3+Student_4+Student_5\n",
    "percentage = sum_ / 500 * 100\n",
    "if percentage >= 80 and percentage <= 100:\n",
    "    print(\"\\nYou've an A+ grade\",str(percentage)+\"%\")\n",
    "if percentage >= 70 and percentage <= 79:\n",
    "    print(\"\\nA Grade\",str(percentage)+\"%\")\n",
    "if percentage >= 60 and percentage <= 69:\n",
    "    print(\"\\nB Grade\",str(percentage)+\"%\")\n",
    "if percentage >= 50 and percentage <= 59:\n",
    "    print(\"\\nC Grade\",str(percentage)+\"%\")\n",
    "if percentage >= 40 and percentage <= 49:\n",
    "    print(\"\\nD Grade\",str(percentage)+\"%\")\n",
    "if percentage >= 10 and percentage <= 35:\n",
    "    print(\"\\nFAIL\")\n"
   ]
  },
  {
   "cell_type": "code",
   "execution_count": null,
   "metadata": {},
   "outputs": [],
   "source": [
    "alien_color = input(\"Shoot the Alien: \")\n",
    "alien_color = alien_color.lower\n",
    "if alien_color == green:\n",
    "    print(\"5 Points +\")\n",
    "if alien_color == blue or yellow:\n",
    "    print(\"10 points\")\n",
    "if alien_color == green and yellow:\n",
    "    print(\"15 points\")\n",
    "else:\n",
    "    print(\"Fail\")"
   ]
  },
  {
   "cell_type": "code",
   "execution_count": 9,
   "metadata": {},
   "outputs": [
    {
     "name": "stdout",
     "output_type": "stream",
     "text": [
      "Enter the number: 234234245\n",
      "Odd number\n"
     ]
    }
   ],
   "source": [
    "user = int(input(\"Enter the number: \"))\n",
    "even = user%2\n",
    "if even == 0:\n",
    "    print(\"Even number\")\n",
    "else:\n",
    "    print(\"Odd number\")"
   ]
  },
  {
   "cell_type": "code",
   "execution_count": null,
   "metadata": {},
   "outputs": [],
   "source": []
  }
 ],
 "metadata": {
  "kernelspec": {
   "display_name": "Python 3",
   "language": "python",
   "name": "python3"
  },
  "language_info": {
   "codemirror_mode": {
    "name": "ipython",
    "version": 3
   },
   "file_extension": ".py",
   "mimetype": "text/x-python",
   "name": "python",
   "nbconvert_exporter": "python",
   "pygments_lexer": "ipython3",
   "version": "3.7.4"
  }
 },
 "nbformat": 4,
 "nbformat_minor": 2
}
