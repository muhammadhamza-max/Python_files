{
 "cells": [
  {
   "cell_type": "code",
   "execution_count": 9,
   "metadata": {},
   "outputs": [
    {
     "name": "stdout",
     "output_type": "stream",
     "text": [
      "DATA:\n",
      "\n",
      "      Name:    Muhammad Hamza\n",
      "      Age:     19\n",
      "      Gender:  Male\n",
      "      Edu:     Inter\n",
      "      Region:  Karachi,Sindh\n"
     ]
    }
   ],
   "source": [
    "print(\"DATA:\\n\")\n",
    "a= \"Muhammad Hamza\"\n",
    "b= \"19\"\n",
    "c= \"Male\"\n",
    "d= \"Inter\"\n",
    "e= \"Karachi,Sindh\"\n",
    "print(\"      Name:   \",a)\n",
    "print(\"      Age:    \",b)\n",
    "print(\"      Gender: \",c)\n",
    "print(\"      Edu:    \",d)\n",
    "print(\"      Region: \",e)"
   ]
  },
  {
   "cell_type": "code",
   "execution_count": null,
   "metadata": {},
   "outputs": [],
   "source": []
  }
 ],
 "metadata": {
  "kernelspec": {
   "display_name": "Python 3",
   "language": "python",
   "name": "python3"
  },
  "language_info": {
   "codemirror_mode": {
    "name": "ipython",
    "version": 3
   },
   "file_extension": ".py",
   "mimetype": "text/x-python",
   "name": "python",
   "nbconvert_exporter": "python",
   "pygments_lexer": "ipython3",
   "version": "3.7.4"
  }
 },
 "nbformat": 4,
 "nbformat_minor": 2
}
