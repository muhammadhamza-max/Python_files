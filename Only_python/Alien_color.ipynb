{
 "cells": [
  {
   "cell_type": "code",
   "execution_count": 5,
   "metadata": {},
   "outputs": [
    {
     "name": "stdout",
     "output_type": "stream",
     "text": [
      "Shoot the alien.. re\n",
      "\n",
      "FAIL\n"
     ]
    }
   ],
   "source": [
    "alien = input(\"Shoot the alien.. \").lower()\n",
    "if alien == \"green\":\n",
    "    print(\"5+ points\")\n",
    "elif alien == \"blue\":\n",
    "    print(\"10+ points\")\n",
    "elif alien == \"yellow\":\n",
    "    print(\"10+ points\")\n",
    "else:\n",
    "    print(\"\\nFAIL\")"
   ]
  },
  {
   "cell_type": "code",
   "execution_count": null,
   "metadata": {},
   "outputs": [],
   "source": [
    " "
   ]
  }
 ],
 "metadata": {
  "kernelspec": {
   "display_name": "Python 3",
   "language": "python",
   "name": "python3"
  },
  "language_info": {
   "codemirror_mode": {
    "name": "ipython",
    "version": 3
   },
   "file_extension": ".py",
   "mimetype": "text/x-python",
   "name": "python",
   "nbconvert_exporter": "python",
   "pygments_lexer": "ipython3",
   "version": "3.7.4"
  }
 },
 "nbformat": 4,
 "nbformat_minor": 2
}
