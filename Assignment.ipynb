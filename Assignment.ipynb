{
 "cells": [
  {
   "cell_type": "code",
   "execution_count": 15,
   "metadata": {},
   "outputs": [
    {
     "name": "stdout",
     "output_type": "stream",
     "text": [
      "Enter numerator: 5\n",
      "Enter denomenator: 2\n",
      "\n",
      "\n",
      "5 is not completely divisible by 2\n"
     ]
    }
   ],
   "source": [
    "user_1 = int(input(\"Enter numerator: \"))\n",
    "user_2 = int(input(\"Enter denomenator: \"))\n",
    "result = user_1 % user_2\n",
    "if result == 0:\n",
    "    print(\"\\n\")\n",
    "    print(user_1,\"is completely divisible by\",user_2)\n",
    "else:\n",
    "    print(\"\\n\")\n",
    "    print(user_1,\"is not completely divisible by\",user_2)"
   ]
  },
  {
   "cell_type": "code",
   "execution_count": 60,
   "metadata": {},
   "outputs": [
    {
     "name": "stdout",
     "output_type": "stream",
     "text": [
      "Enter string: hi\n",
      "Enter times to copy: 3\n",
      "\n",
      "\n",
      "3 copies of hi are hihihi\n"
     ]
    }
   ],
   "source": [
    "j = input(\"Enter string: \")\n",
    "n = int(input(\"Enter times to copy: \"))\n",
    "string = \"\"\n",
    "for i in range(1):\n",
    "    string = n*j\n",
    "    print(\"\\n\")\n",
    "    print(n,\"copies of\",j+\" are\",string)"
   ]
  },
  {
   "cell_type": "code",
   "execution_count": 1,
   "metadata": {},
   "outputs": [
    {
     "name": "stdout",
     "output_type": "stream",
     "text": [
      "Enter vowel or letter: A\n",
      "a letter is a Vowel\n",
      "\n",
      "\n",
      "Enter vowel or letter: e\n",
      "e letter is a Vowel\n",
      "\n",
      "\n",
      "Enter vowel or letter: n\n",
      "n letter is NOT a vowel\n"
     ]
    }
   ],
   "source": [
    "vowels = \"aeiou\"\n",
    "for i in range(3):\n",
    "    vowel = input(\"Enter vowel or letter: \").lower()\n",
    "    if vowel in vowels:\n",
    "        print(vowel,\"letter is a Vowel\")\n",
    "        print(\"\\n\")\n",
    "    else:\n",
    "        print(vowel,\"letter is NOT a vowel\")"
   ]
  },
  {
   "cell_type": "code",
   "execution_count": 2,
   "metadata": {},
   "outputs": [
    {
     "name": "stdout",
     "output_type": "stream",
     "text": [
      "List of Odd numbers from 1 to 20:\n",
      "\n",
      "\n",
      "1\n",
      "3\n",
      "5\n",
      "7\n",
      "9\n",
      "11\n",
      "13\n",
      "15\n",
      "17\n",
      "19\n"
     ]
    }
   ],
   "source": [
    "print(\"List of Odd numbers from 1 to 20:\")\n",
    "print(\"\\n\")\n",
    "for i in range(1,21,2):\n",
    "    print(i)"
   ]
  },
  {
   "cell_type": "code",
   "execution_count": 28,
   "metadata": {},
   "outputs": [
    {
     "name": "stdout",
     "output_type": "stream",
     "text": [
      "My 9 fav dishes are: \n",
      "\n",
      "\n",
      "['Beef Biryani', 'White Karahi', 'Afghani Pulao', 'Charsi Tikkar', \"Anything made from my mother's hand\", 'Qeema Kareley', '   Grilled Fish', 'Katakat', 'Rafaello Cake']\n",
      "\n",
      "\n",
      "First 3 are: ['Beef Biryani', 'White Karahi', 'Afghani Pulao']\n",
      "Middle 3 are: ['Charsi Tikkar', \"Anything made from my mother's hand\", 'Qeema Kareley']\n",
      "Last 3 are: ['   Grilled Fish', 'Katakat', 'Rafaello Cake']\n"
     ]
    }
   ],
   "source": [
    "print(\"My 9 fav dishes are: \")\n",
    "print(\"\\n\")\n",
    "list_ = ['Beef Biryani','White Karahi','Afghani Pulao','Charsi Tikkar',\"Anything made from my mother's hand\",'Qeema Kareley',\n",
    "      '   Grilled Fish','Katakat','Rafaello Cake']\n",
    "print(list_)\n",
    "first = list_[0:3]\n",
    "print(\"\\n\")\n",
    "print(\"First 3 are:\",first)\n",
    "second = list_[3:6]\n",
    "print(\"Middle 3 are:\",second)\n",
    "third = list_[6:]\n",
    "print(\"Last 3 are:\",third)"
   ]
  },
  {
   "cell_type": "code",
   "execution_count": null,
   "metadata": {},
   "outputs": [],
   "source": []
  }
 ],
 "metadata": {
  "kernelspec": {
   "display_name": "Python 3",
   "language": "python",
   "name": "python3"
  },
  "language_info": {
   "codemirror_mode": {
    "name": "ipython",
    "version": 3
   },
   "file_extension": ".py",
   "mimetype": "text/x-python",
   "name": "python",
   "nbconvert_exporter": "python",
   "pygments_lexer": "ipython3",
   "version": "3.7.4"
  }
 },
 "nbformat": 4,
 "nbformat_minor": 2
}
