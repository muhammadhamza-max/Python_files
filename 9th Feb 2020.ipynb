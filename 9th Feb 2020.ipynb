{
 "cells": [
  {
   "cell_type": "markdown",
   "metadata": {},
   "source": [
    "###### print\n",
    "###### how to declare variables of string and integer\n",
    "###### Rules of decalring Variable name \n"
   ]
  },
  {
   "cell_type": "markdown",
   "metadata": {},
   "source": [
    "1a   ,  _1a , a1 , B3 , print = 3"
   ]
  },
  {
   "cell_type": "code",
   "execution_count": 1,
   "metadata": {},
   "outputs": [
    {
     "name": "stdout",
     "output_type": "stream",
     "text": [
      "2\n"
     ]
    }
   ],
   "source": [
    "p = 2\n",
    "print(2)"
   ]
  },
  {
   "cell_type": "code",
   "execution_count": 2,
   "metadata": {},
   "outputs": [
    {
     "name": "stdout",
     "output_type": "stream",
     "text": [
      "22\n"
     ]
    }
   ],
   "source": [
    "Print = 22\n",
    "print(Print)"
   ]
  },
  {
   "cell_type": "code",
   "execution_count": 4,
   "metadata": {},
   "outputs": [
    {
     "name": "stdout",
     "output_type": "stream",
     "text": [
      "1\n",
      "22\n"
     ]
    }
   ],
   "source": [
    "Print = 22\n",
    "pRint = 1\n",
    "print(pRint)\n",
    "print(Print)"
   ]
  },
  {
   "cell_type": "code",
   "execution_count": 5,
   "metadata": {},
   "outputs": [
    {
     "name": "stdout",
     "output_type": "stream",
     "text": [
      "1\n",
      "2\n"
     ]
    }
   ],
   "source": [
    "m = 1\n",
    "M = 2\n",
    "print(m)\n",
    "print(M)"
   ]
  },
  {
   "cell_type": "code",
   "execution_count": 7,
   "metadata": {},
   "outputs": [
    {
     "name": "stdout",
     "output_type": "stream",
     "text": [
      "5\n",
      "10\n"
     ]
    }
   ],
   "source": [
    "add = 2+3\n",
    "print(add)\n",
    "print(2*5)"
   ]
  },
  {
   "cell_type": "code",
   "execution_count": 10,
   "metadata": {},
   "outputs": [
    {
     "name": "stdout",
     "output_type": "stream",
     "text": [
      "11\n"
     ]
    }
   ],
   "source": [
    "i = 10\n",
    "i = i + 1\n",
    "print(i)"
   ]
  },
  {
   "cell_type": "code",
   "execution_count": 11,
   "metadata": {},
   "outputs": [
    {
     "name": "stdout",
     "output_type": "stream",
     "text": [
      "12\n"
     ]
    }
   ],
   "source": [
    "i += 1    # i + 1  => i\n",
    "print(i)"
   ]
  },
  {
   "cell_type": "code",
   "execution_count": 14,
   "metadata": {},
   "outputs": [
    {
     "name": "stdout",
     "output_type": "stream",
     "text": [
      "18\n",
      "54\n",
      "10.8\n"
     ]
    }
   ],
   "source": [
    "i = 20\n",
    "i -= 2\n",
    "print(i)\n",
    "i *= 3     # i = 54\n",
    "print(i)\n",
    "i /= 5    # i = 54/5\n",
    "print(i)"
   ]
  },
  {
   "cell_type": "code",
   "execution_count": 16,
   "metadata": {},
   "outputs": [
    {
     "name": "stdout",
     "output_type": "stream",
     "text": [
      "6.5\n",
      "1\n"
     ]
    }
   ],
   "source": [
    "m = 13\n",
    "i  = m / 2   # Returns Quotient \n",
    "print(i)\n",
    "j = m % 2   # modulo operator : It returns REMAINDER\n",
    "print(j)\n"
   ]
  },
  {
   "cell_type": "code",
   "execution_count": 19,
   "metadata": {},
   "outputs": [
    {
     "name": "stdout",
     "output_type": "stream",
     "text": [
      "9.0\n",
      "6.0\n"
     ]
    }
   ],
   "source": [
    "exp = 3 * (6 / 2)  # 6  \n",
    "exp1 = (3*(4+2))/(4-1)\n",
    "print(exp)\n",
    "print(exp1)"
   ]
  },
  {
   "cell_type": "code",
   "execution_count": 20,
   "metadata": {},
   "outputs": [
    {
     "name": "stdout",
     "output_type": "stream",
     "text": [
      "Ramsha Azeemi\n"
     ]
    }
   ],
   "source": [
    "print(\"Ramsha Azeemi\")"
   ]
  },
  {
   "cell_type": "code",
   "execution_count": 21,
   "metadata": {},
   "outputs": [
    {
     "name": "stdout",
     "output_type": "stream",
     "text": [
      "Ramsha Azeemi\n"
     ]
    }
   ],
   "source": [
    "name = \"Ramsha Azeemi\"\n",
    "print(name) "
   ]
  },
  {
   "cell_type": "code",
   "execution_count": 31,
   "metadata": {},
   "outputs": [
    {
     "name": "stdout",
     "output_type": "stream",
     "text": [
      "Ramsha Azeemi\n",
      "Ramsha Azeemi\n",
      "RamshaAzeemi\n",
      "Ramsha Azeemi 3\n"
     ]
    }
   ],
   "source": [
    "fname = \"Ramsha\"\n",
    "lname = \"Azeemi\"\n",
    "m = 3\n",
    "full_name  = fname +\" \"+lname \n",
    "print(fname,lname)\n",
    "print(fname + \" \"+ lname)\n",
    "print(fname + lname)\n",
    "print(full_name + \" \"+ str(m))"
   ]
  },
  {
   "cell_type": "code",
   "execution_count": 2,
   "metadata": {},
   "outputs": [
    {
     "name": "stdout",
     "output_type": "stream",
     "text": [
      "Enter first no : 3\n",
      "Enter second no : 10\n",
      "13\n"
     ]
    }
   ],
   "source": [
    "num1 = int(input(\"Enter first no : \"))\n",
    "num2 = int(input(\"Enter second no : \"))\n",
    "sum_ = num1 + num2\n",
    "print(sum_)\n"
   ]
  },
  {
   "cell_type": "code",
   "execution_count": 3,
   "metadata": {},
   "outputs": [
    {
     "name": "stdout",
     "output_type": "stream",
     "text": [
      "Enter the radius :2.3\n",
      "Area of a circle is :  16.621179999999995\n",
      "Area of a circle is : 16.621179999999995\n"
     ]
    }
   ],
   "source": [
    "r = float(input(\"Enter the radius :\"))\n",
    "area = 3.142*r**2\n",
    "print(\"Area of a circle is : \",area)\n",
    "print(\"Area of a circle is : \" +str(area))"
   ]
  },
  {
   "cell_type": "code",
   "execution_count": 4,
   "metadata": {},
   "outputs": [
    {
     "name": "stdout",
     "output_type": "stream",
     "text": [
      "Age : 25\n",
      "You will 100 at :  2095\n"
     ]
    }
   ],
   "source": [
    "age = int(input(\"Age : \"))\n",
    "cal = (2020 - age) + 100\n",
    "print(\"You will 100 at : \",cal)"
   ]
  },
  {
   "cell_type": "code",
   "execution_count": 11,
   "metadata": {},
   "outputs": [
    {
     "name": "stdout",
     "output_type": "stream",
     "text": [
      "Enter your age: 15\n",
      "You can't avail this ride\n"
     ]
    }
   ],
   "source": [
    "age = int(input(\"Enter your age: \"))\n",
    "if age >= 18:\n",
    "    print(\"You can avail this ride\")\n",
    "    print(\"I am inside if body\")  \n",
    "else:\n",
    "    print(\"You can't avail this ride\")\n",
    "    "
   ]
  },
  {
   "cell_type": "code",
   "execution_count": 16,
   "metadata": {},
   "outputs": [
    {
     "name": "stdout",
     "output_type": "stream",
     "text": [
      "Enter physics marks :90\n",
      "Enter English marks :90\n",
      "Enter Computer marks :80\n",
      "Enter Math's marks :70\n",
      "Enter Urdu marks :89\n",
      "OBTAINED MARKS : 419\n",
      "PERCENTAGE : 83.8\n"
     ]
    }
   ],
   "source": [
    "phy = int(input(\"Enter physics marks :\"))\n",
    "eng = int(input(\"Enter English marks :\"))\n",
    "comp = int(input(\"Enter Computer marks :\"))\n",
    "maths = int(input(\"Enter Math's marks :\"))\n",
    "urdu = int(input(\"Enter Urdu marks :\"))\n",
    "obtained_marks = phy + eng + comp + maths + urdu\n",
    "total = 500\n",
    "per = (obtained_marks * 100) / total \n",
    "print(\"OBTAINED MARKS :\" ,obtained_marks)\n",
    "print(\"PERCENTAGE :\",per)"
   ]
  },
  {
   "cell_type": "code",
   "execution_count": 17,
   "metadata": {},
   "outputs": [
    {
     "name": "stdout",
     "output_type": "stream",
     "text": [
      "A+\n"
     ]
    }
   ],
   "source": [
    "if per >=80 and per <= 100:\n",
    "    print(\"A+\")\n",
    "elif per >= 70 and per < 80:\n",
    "    print(\"A\")\n",
    "elif per >= 60 and per < 70:\n",
    "    print(\"B\")\n",
    "elif per >= 50 and per < 60:\n",
    "    print(\"B\")\n",
    "else:\n",
    "    print(\"Fail\")\n",
    "    \n",
    "    \n",
    "    "
   ]
  },
  {
   "cell_type": "code",
   "execution_count": 19,
   "metadata": {},
   "outputs": [
    {
     "name": "stdout",
     "output_type": "stream",
     "text": [
      "False\n"
     ]
    }
   ],
   "source": [
    "a = 10\n",
    "print(a == 2)"
   ]
  },
  {
   "cell_type": "code",
   "execution_count": 21,
   "metadata": {},
   "outputs": [
    {
     "name": "stdout",
     "output_type": "stream",
     "text": [
      "Enter color : RED\n",
      "red\n"
     ]
    }
   ],
   "source": [
    "color = input(\"Enter color : \")\n",
    "color = color.upper()\n",
    "if color == 'GREEN'\n",
    "print(color)        "
   ]
  },
  {
   "cell_type": "code",
   "execution_count": null,
   "metadata": {},
   "outputs": [],
   "source": [
    "color.lower()   , color.upper() , color.title()  -> Red"
   ]
  }
 ],
 "metadata": {
  "kernelspec": {
   "display_name": "Python 3",
   "language": "python",
   "name": "python3"
  },
  "language_info": {
   "codemirror_mode": {
    "name": "ipython",
    "version": 3
   },
   "file_extension": ".py",
   "mimetype": "text/x-python",
   "name": "python",
   "nbconvert_exporter": "python",
   "pygments_lexer": "ipython3",
   "version": "3.7.4"
  }
 },
 "nbformat": 4,
 "nbformat_minor": 2
}
