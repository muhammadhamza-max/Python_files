{
 "cells": [
  {
   "cell_type": "code",
   "execution_count": 3,
   "metadata": {},
   "outputs": [
    {
     "name": "stdout",
     "output_type": "stream",
     "text": [
      "Enter your Age: 19\n",
      "This is the year you,ll become 100 years old: 2101\n"
     ]
    }
   ],
   "source": [
    "user = int(input(\"Enter your Age: \"))\n",
    "age = 100-user\n",
    "final = 2020+age\n",
    "print(\"This is the year you,ll become 100 years old:\",final)"
   ]
  },
  {
   "cell_type": "code",
   "execution_count": 15,
   "metadata": {},
   "outputs": [
    {
     "name": "stdout",
     "output_type": "stream",
     "text": [
      "Enter number: 12\n",
      "This is an even number\n"
     ]
    }
   ],
   "source": [
    "user = int(input(\"Enter number: \"))\n",
    "form = user % 2\n",
    "if form>0:\n",
    "    print(\"This is an odd number\")\n",
    "else:\n",
    "    print(\"This is an even number\")"
   ]
  },
  {
   "cell_type": "code",
   "execution_count": 18,
   "metadata": {},
   "outputs": [
    {
     "name": "stdout",
     "output_type": "stream",
     "text": [
      "Enter radius: 15\n",
      "User ka 706.9499999999999cm\n"
     ]
    }
   ],
   "source": [
    "user = int(input(\"Enter radius: \"))\n",
    "area = 3.142 * user**2\n",
    "print(\"User ka\",str(area)+\"cm\")"
   ]
  },
  {
   "cell_type": "code",
   "execution_count": null,
   "metadata": {},
   "outputs": [],
   "source": [
    "alien = input(\"Shoot the alien..\")\n",
    "if alien == green:\n",
    "    print(\"5+ points\")"
   ]
  },
  {
   "cell_type": "code",
   "execution_count": null,
   "metadata": {},
   "outputs": [],
   "source": []
  }
 ],
 "metadata": {
  "kernelspec": {
   "display_name": "Python 3",
   "language": "python",
   "name": "python3"
  },
  "language_info": {
   "codemirror_mode": {
    "name": "ipython",
    "version": 3
   },
   "file_extension": ".py",
   "mimetype": "text/x-python",
   "name": "python",
   "nbconvert_exporter": "python",
   "pygments_lexer": "ipython3",
   "version": "3.7.4"
  }
 },
 "nbformat": 4,
 "nbformat_minor": 2
}
